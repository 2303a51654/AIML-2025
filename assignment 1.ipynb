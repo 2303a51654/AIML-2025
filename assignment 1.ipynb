{
  "nbformat": 4,
  "nbformat_minor": 0,
  "metadata": {
    "colab": {
      "provenance": [],
      "authorship_tag": "ABX9TyMCQJ5Mj1ayxZOioqOQ5PCy",
      "include_colab_link": true
    },
    "kernelspec": {
      "name": "python3",
      "display_name": "Python 3"
    },
    "language_info": {
      "name": "python"
    }
  },
  "cells": [
    {
      "cell_type": "markdown",
      "metadata": {
        "id": "view-in-github",
        "colab_type": "text"
      },
      "source": [
        "<a href=\"https://colab.research.google.com/github/2303a51654/AIML-2025/blob/main/assignment%201.ipynb\" target=\"_parent\"><img src=\"https://colab.research.google.com/assets/colab-badge.svg\" alt=\"Open In Colab\"/></a>"
      ]
    },
    {
      "cell_type": "code",
      "execution_count": 1,
      "metadata": {
        "colab": {
          "base_uri": "https://localhost:8080/"
        },
        "id": "qi99wQ6gHKlN",
        "outputId": "84dd4157-b165-4d4c-c3c2-5c31f1dfb7a8"
      },
      "outputs": [
        {
          "output_type": "stream",
          "name": "stdout",
          "text": [
            "{'geeks', 'for'}\n",
            "my first lab\n",
            "<class 'float'>\n",
            "<class 'int'>\n",
            "4.5\n",
            "10\n",
            "m\n"
          ]
        }
      ],
      "source": [
        "list={\"geeks\",\"for\",\"geeks\"}\n",
        "list2=\"my first lab\"\n",
        "list3=4.5\n",
        "list4=4+6\n",
        "print(list)\n",
        "print(list2)\n",
        "print(type(list3))\n",
        "print(type(list4))\n",
        "print(list3)\n",
        "print(list4)\n",
        "print(list2[0])"
      ]
    },
    {
      "cell_type": "code",
      "source": [
        "list={1,2,'geeks',0,'for','geeks'}\n",
        "print(\"\\nList with the useof mixed values\")\n",
        "print(list)"
      ],
      "metadata": {
        "colab": {
          "base_uri": "https://localhost:8080/"
        },
        "id": "VSEOFdFDHWHS",
        "outputId": "81e3180f-dff7-4062-dc51-cda7d890fa7f"
      },
      "execution_count": 2,
      "outputs": [
        {
          "output_type": "stream",
          "name": "stdout",
          "text": [
            "\n",
            "List with the useof mixed values\n",
            "{0, 1, 2, 'geeks', 'for'}\n"
          ]
        }
      ]
    },
    {
      "cell_type": "code",
      "source": [
        "import numpy as np\n",
        "list=(1,5,2,6,7)\n",
        "list1=[3,6,1,8]\n",
        "print(list)\n",
        "print(list1)\n",
        "print(type(list1))\n",
        "print(type(list))"
      ],
      "metadata": {
        "colab": {
          "base_uri": "https://localhost:8080/"
        },
        "id": "2u7cRmDLHgPD",
        "outputId": "75d16b18-5d84-490c-b5b9-83722959a8e1"
      },
      "execution_count": 3,
      "outputs": [
        {
          "output_type": "stream",
          "name": "stdout",
          "text": [
            "(1, 5, 2, 6, 7)\n",
            "[3, 6, 1, 8]\n",
            "<class 'list'>\n",
            "<class 'tuple'>\n"
          ]
        }
      ]
    }
  ]
}